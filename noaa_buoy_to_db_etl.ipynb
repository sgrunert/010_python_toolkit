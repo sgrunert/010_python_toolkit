{
 "cells": [
  {
   "cell_type": "markdown",
   "metadata": {},
   "source": [
    "**Author: S. Grunert**     \n",
    "**Revised: February 1, 2016**     \n",
    "**Topic: ETL for NOAA buoy data gathering, clean-up, and storage in sqlite.**     \n",
    "**Versions: Py 2.7** \n"
   ]
  },
  {
   "cell_type": "markdown",
   "metadata": {},
   "source": [
    "###EXTRACT: Download Buoy Data from NOAA."
   ]
  },
  {
   "cell_type": "code",
   "execution_count": 16,
   "metadata": {
    "collapsed": false,
    "scrolled": false
   },
   "outputs": [
    {
     "name": "stdout",
     "output_type": "stream",
     "text": [
      "Enter Month like Dec: Dec\n",
      "http://ndbc-load.nws.noaa.gov/data/stdmet/Dec/46240.txt\n",
      "http://ndbc-load.nws.noaa.gov/data/stdmet/Dec/46236.txt\n",
      "http://ndbc-load.nws.noaa.gov/data/stdmet/Dec/46239.txt\n"
     ]
    }
   ],
   "source": [
    "#Download files for each buoy-month.\n",
    "\n",
    "import urllib\n",
    "\n",
    "mth = raw_input(\"Enter Month like Dec: \")\n",
    "buoys = ['46240','46236','46239']\n",
    "year = ['_2015_']\n",
    "\n",
    "for buoy in buoys:\n",
    "    url = 'http://ndbc-load.nws.noaa.gov/data/stdmet/' + mth + \"/\" + buoy + \".txt\"\n",
    "    uh = urllib.urlopen(url)\n",
    "    data = uh.read()\n",
    "    print url\n",
    "    filename = 'C:\\\\buoy_data\\\\' + buoy + year + mth + '.txt'\n",
    "    outfile = open(filename, \"w\")\n",
    "    outfile.write(data)\n",
    "    outfile.close()\n"
   ]
  },
  {
   "cell_type": "markdown",
   "metadata": {
    "collapsed": false
   },
   "source": [
    "###TRANSFORM: Add buoy ID, pick columns, and merge files. "
   ]
  },
  {
   "cell_type": "code",
   "execution_count": 9,
   "metadata": {
    "collapsed": false,
    "scrolled": true
   },
   "outputs": [
    {
     "name": "stdout",
     "output_type": "stream",
     "text": [
      "['46236_2015_Dec.txt', '46236_2015_Nov.txt', '46236_2015_Oct.txt', '46236_2015_Sep.txt', '46239_2015_Dec.txt', '46239_2015_Nov.txt', '46239_2015_Oct.txt', '46239_2015_Sep.txt', '46240_2015_Dec.txt', '46240_2015_Nov.txt', '46240_2015_Oct.txt', '46240_2015_Sep.txt']\n"
     ]
    }
   ],
   "source": [
    "#Combine individual buoy downloads into a single file picking applicable columns.\n",
    "\n",
    "import glob\n",
    "import os\n",
    "import re\n",
    "\n",
    "os.chdir('C:\\\\buoy_data\\\\data\\\\')\n",
    "filelist = glob.glob(\"*.txt\")\n",
    "print filelist\n",
    "dhandle = open('import.txt','a')\n",
    "\n",
    "for file in filelist:\n",
    "    if len(file) < 12: continue\n",
    "    buoy = re.findall('^[0-9]+',file)\n",
    "    #print buoy\n",
    "    fhandle = open(file)\n",
    "    try:\n",
    "        for line in fhandle:\n",
    "            if line.startswith('#'): continue\n",
    "            lvalues = line.split()\n",
    "            if len(lvalues) < 1: continue\n",
    "            row = list()\n",
    "            row.append(buoy[0])\n",
    "            row.append('\\t')\n",
    "            row.append(lvalues[0])\n",
    "            row.append('\\t')\n",
    "            row.append(lvalues[1])\n",
    "            row.append('\\t')\n",
    "            row.append(lvalues[2])\n",
    "            row.append('\\t')\n",
    "            row.append(lvalues[3])\n",
    "            row.append('\\t')\n",
    "            row.append(lvalues[4])\n",
    "            row.append('\\t')\n",
    "            row.append(lvalues[8])\n",
    "            row.append('\\t')\n",
    "            row.append(lvalues[11])\n",
    "            row.append('\\t')\n",
    "            row.append(lvalues[14])\n",
    "            row.append('\\n')\n",
    "            output = ''.join(map(str, row))\n",
    "            dhandle.write(output)\n",
    "    except:\n",
    "        print(\"Error. Check the data.\")\n",
    "    fhandle.close()\n",
    "dhandle.close()"
   ]
  },
  {
   "cell_type": "markdown",
   "metadata": {},
   "source": [
    "###LOAD: Insert data into a sqlite database."
   ]
  },
  {
   "cell_type": "code",
   "execution_count": 11,
   "metadata": {
    "collapsed": false,
    "scrolled": true
   },
   "outputs": [
    {
     "name": "stdout",
     "output_type": "stream",
     "text": [
      "Rows Loaded: 16171\n"
     ]
    }
   ],
   "source": [
    "#Insert the buoy data into a sqlite table for convenient SQL manipulation.\n",
    "\n",
    "import sqlite3\n",
    "import os\n",
    "import time\n",
    "\n",
    "os.chdir('C:\\\\buoy_data\\\\')\n",
    "fhand = open(\"C:\\\\buoy_data\\\\data\\\\import.txt\")\n",
    "conn = sqlite3.connect('buoy.sqlite')\n",
    "cur = conn.cursor()\n",
    "cur.execute('''CREATE TABLE IF NOT EXISTS buoy_data\n",
    "    (buoy TEXT,year TEXT,month TEXT,day TEXT,hour TEXT,minute TEXT,WVHT TEXT,MWD TEXT,WTMP TEXT)''')\n",
    "count = 0\n",
    "try:\n",
    "    for line in fhand :\n",
    "        #if count >10: break\n",
    "        line = line.rstrip()\n",
    "        line = line.split('\\t')\n",
    "        cur.execute('''INSERT INTO buoy_data (buoy,year,month,day,hour,minute,WVHT,MWD,WTMP)\n",
    "            VALUES(?,?,?,?,?,?,?,?,?)''',(line[0],line[1],line[2],line[3],line[4],line[5],line[6],line[7],line[8]))\n",
    "        #conn.commit()\n",
    "        #time.sleep(0.1)\n",
    "        #print line\n",
    "        count = count + 1\n",
    "    conn.commit()\n",
    "except:\n",
    "    conn.rollback()\n",
    "conn.close()\n",
    "fhand.close()\n",
    "print \"Rows Loaded:\" , count"
   ]
  },
  {
   "cell_type": "markdown",
   "metadata": {},
   "source": [
    "###VISUALIZE: Download a file suitable for Tableau"
   ]
  },
  {
   "cell_type": "code",
   "execution_count": 12,
   "metadata": {
    "collapsed": false,
    "scrolled": false
   },
   "outputs": [
    {
     "name": "stdout",
     "output_type": "stream",
     "text": [
      "Rows to File: 352\n"
     ]
    }
   ],
   "source": [
    "#Execute a specific SQL statement to prepare buoy data for visualization.\n",
    "\n",
    "import sqlite3\n",
    "import os\n",
    "import re\n",
    "\n",
    "os.chdir('C:\\\\buoy_data\\\\')\n",
    "conn = sqlite3.connect('buoy.sqlite')\n",
    "cur = conn.cursor()\n",
    "cur.execute('''Select\n",
    "    buoy\n",
    "    ,year\n",
    "    ,month\n",
    "    ,day\n",
    "    ,round(max(WVHT),2)    as max_WVHT\n",
    "    ,round(avg(WVHT),2)    as avg_WVHT\n",
    "    ,round(min(WVHT),2)    as min_WVHT\n",
    "    ,round(avg(MWD),0)     as avg_MWD\n",
    "    ,round(max(WTMP),1)    as max_WTMP\n",
    "    ,round(avg(WTMP),1)    as avg_WTMP\n",
    "    ,round(min(WTMP),1)    as min_WTMP\n",
    "From\n",
    "    buoy_data\n",
    "Where\n",
    "    WVHT >= 0 and WVHT <= 20\n",
    "    and MWD >= 0 and MWD <= 361\n",
    "    and WTMP >= 0 and WTMP <= 30\n",
    "Group By\n",
    "    buoy\n",
    "    ,year\n",
    "    ,month\n",
    "    ,day''')\n",
    "dhandle = open('agg_data.csv','a')\n",
    "count = 0\n",
    "try:\n",
    "    for row in cur:\n",
    "        #if count >10: break\n",
    "        row = str(row)\n",
    "        row = row.replace('u','')\n",
    "        row = row.replace('(','')\n",
    "        row = row.replace(')','')\n",
    "        row = row.replace('\\'','')\n",
    "        #print row\n",
    "        count = count + 1\n",
    "        dhandle.write(row + \"\\n\")\n",
    "except:\n",
    "    conn.close()\n",
    "    dhandle.close()\n",
    "conn.close()\n",
    "dhandle.close()\n",
    "print \"Rows to File:\" , count\n"
   ]
  },
  {
   "cell_type": "code",
   "execution_count": 49,
   "metadata": {
    "collapsed": true
   },
   "outputs": [],
   "source": []
  }
 ],
 "metadata": {
  "kernelspec": {
   "display_name": "Python 2",
   "language": "python",
   "name": "python2"
  },
  "language_info": {
   "codemirror_mode": {
    "name": "ipython",
    "version": 2
   },
   "file_extension": ".py",
   "mimetype": "text/x-python",
   "name": "python",
   "nbconvert_exporter": "python",
   "pygments_lexer": "ipython2",
   "version": "2.7.10"
  }
 },
 "nbformat": 4,
 "nbformat_minor": 0
}
