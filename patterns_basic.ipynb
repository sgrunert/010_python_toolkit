{
 "cells": [
  {
   "cell_type": "markdown",
   "metadata": {},
   "source": [
    "**Author: S. Grunert**     \n",
    "**Revised: January 31, 2016**     \n",
    "**Topic: Basic manipulations in Python.**     \n",
    "**Versions: Py 2.7**     "
   ]
  },
  {
   "cell_type": "markdown",
   "metadata": {},
   "source": [
    "###Variable Manipulation"
   ]
  },
  {
   "cell_type": "code",
   "execution_count": 1,
   "metadata": {
    "collapsed": false
   },
   "outputs": [
    {
     "name": "stdout",
     "output_type": "stream",
     "text": [
      "a: <type 'float'> 3.75\n",
      "b = int(a): <type 'int'> 3\n",
      "c = str(a): <type 'str'> 3.75\n",
      "b + a: <type 'float'> 6.75\n",
      "a+b: <type 'float'> 6.75\n",
      "c + c: <type 'str'> 3.753.75\n",
      "\n",
      "\n",
      "a = 4: <type 'int'> 4\n",
      "a == 6: <type 'bool'> False\n",
      "a != 6: <type 'bool'> True\n",
      "a < 6: <type 'bool'> True\n",
      "a > 6: <type 'bool'> False\n",
      "a**2: <type 'int'> 16\n"
     ]
    }
   ],
   "source": [
    "#Types, operators, and methods.\n",
    "\n",
    "a = 3.75\n",
    "print \"a:\",type(a), a\n",
    "b = int(a)\n",
    "print \"b = int(a):\",type(b), b\n",
    "c = str(a)\n",
    "print \"c = str(a):\",type(c), c\n",
    "print \"b + a:\",type(b+a), b+a\n",
    "print \"a+b:\",type(a+b), a+b\n",
    "print \"c + c:\",type(c+c), c+c\n",
    "\n",
    "print \"\\n\"\n",
    "a = 4\n",
    "print \"a = 4:\", type(a), a\n",
    "print \"a == 6:\", type(a == 6), a == 6\n",
    "print \"a != 6:\", type(a != 6), a != 6\n",
    "print \"a < 6:\", type(a < 6), a < 6\n",
    "print \"a > 6:\", type(a > 6), a > 6\n",
    "a = a**2\n",
    "print \"a**2:\", type(a), a"
   ]
  },
  {
   "cell_type": "code",
   "execution_count": 51,
   "metadata": {
    "collapsed": false
   },
   "outputs": [
    {
     "name": "stdout",
     "output_type": "stream",
     "text": [
      "word: unweltschutzgesetze\n",
      "word length: 19\n",
      "word slice letters 1-4 word[0:4]: unwe\n",
      "word slice letters 1-4 word[:4]: unwe\n",
      "word slice 3rd letter word[2]: w\n",
      "word uppercase: UNWELTSCHUTZGESETZE\n",
      "word startswith u: True\n",
      "check word for z presence: True\n",
      "word find first z: 11\n",
      "word find second z: 17\n",
      "word slice z to z: geset\n"
     ]
    }
   ],
   "source": [
    "#String manipulations.\n",
    "\n",
    "word = 'unweltschutzgesetze'\n",
    "\n",
    "print \"word:\",word\n",
    "print \"word length:\",len(word)\n",
    "print \"word slice letters 1-4 word[0:4]:\", word[0:4]\n",
    "print \"word slice letters 1-4 word[:4]:\", word[:4]\n",
    "print \"word slice 3rd letter word[2]:\", word[2]\n",
    "print \"word uppercase:\", word.upper()\n",
    "print \"word startswith u:\", word.startswith('u')\n",
    "print \"check word for z presence:\", 'z' in word\n",
    "print \"word find first z:\", word.find('z')\n",
    "print \"word find second z:\", word.find('z',word.find('z')+1)\n",
    "print \"word slice z to z:\", word[word.find('z')+1:word.find('z',word.find('z')+1)]"
   ]
  },
  {
   "cell_type": "markdown",
   "metadata": {},
   "source": [
    "###List Manipulation"
   ]
  },
  {
   "cell_type": "code",
   "execution_count": null,
   "metadata": {
    "collapsed": true
   },
   "outputs": [],
   "source": [
    "sentence = \"the quick brown fox jumps over the lazy dog\"\n",
    "word_list = sentence.split()\n",
    "print \"Word List:\", word_list\n",
    "\n",
    "num_list = range(10)\n",
    "print \"Number List:\", num_list\n",
    "\n",
    "letter_list = ['a','b','c']\n",
    "letter_list.append('d')\n",
    "print \"Letter List:\", letter_list\n",
    "\n",
    "print \"Concatenate:\", num_list + letter_list\n",
    "print \"Word List Length:\", len(word_list)\n",
    "print \"Number List Sum:\", sum(num_list)\n",
    "print \"Letter List Slice:\", letter_list[1:3]\n",
    "word_list.sort()\n",
    "print \"Word List Sort:\", word_list"
   ]
  },
  {
   "cell_type": "markdown",
   "metadata": {},
   "source": [
    "###Dictionary Manipulation"
   ]
  },
  {
   "cell_type": "code",
   "execution_count": 18,
   "metadata": {
    "collapsed": false
   },
   "outputs": [
    {
     "name": "stdout",
     "output_type": "stream",
     "text": [
      "Roles Dictionary {'manager': 'Jeff', 'architect': 'Jennifer', 'analyst': 'Jody', 'developer': 'Jill'}\n",
      "Updated Dictionary {'manager': 'Jeff', 'architect': 'Jennifer', 'analyst': 'George', 'developer': 'Jill'}\n",
      "Architect: Jennifer\n"
     ]
    }
   ],
   "source": [
    "roles = dict()\n",
    "roles['manager'] = 'Jeff'\n",
    "roles['developer'] = 'Jill'\n",
    "roles['analyst'] = 'Jody'\n",
    "roles['architect'] = 'Jennifer'\n",
    "print \"Roles Dictionary\", roles\n",
    "\n",
    "roles['analyst'] = 'George'\n",
    "print \"Updated Dictionary\", roles\n",
    "\n",
    "print \"Architect:\", roles['architect']"
   ]
  },
  {
   "cell_type": "markdown",
   "metadata": {},
   "source": [
    "###Programming Patterns"
   ]
  },
  {
   "cell_type": "code",
   "execution_count": 2,
   "metadata": {
    "collapsed": false
   },
   "outputs": [
    {
     "name": "stdout",
     "output_type": "stream",
     "text": [
      "Enter Hours: 42\n",
      "Enter Rate: 10\n",
      "$ 430.0\n"
     ]
    }
   ],
   "source": [
    "#Basic calculation with try-except error handling.\n",
    "\n",
    "try:\n",
    "    inp = raw_input(\"Enter Hours: \")\n",
    "    hours = float(inp)\n",
    "    inp = raw_input(\"Enter Rate: \")\n",
    "    rate = float(inp)\n",
    "    pay = 0\n",
    "except:\n",
    "    print \"Error, please enter numeric input.\"\n",
    "    quit()\n",
    "if hours <= 40:\n",
    "    pay = rate * hours\n",
    "else:\n",
    "    pay = rate * 40 + (rate*1.5*(hours - 40))\n",
    "print \"$\",pay"
   ]
  },
  {
   "cell_type": "code",
   "execution_count": 3,
   "metadata": {
    "collapsed": false
   },
   "outputs": [
    {
     "name": "stdout",
     "output_type": "stream",
     "text": [
      "Enter Score:.75\n",
      "C\n"
     ]
    }
   ],
   "source": [
    "#Basic calculation with edge case error handling.\n",
    "\n",
    "score = raw_input(\"Enter Score:\")\n",
    "s = float(score)\n",
    "\n",
    "#Handle the edge cases.\n",
    "if s < 0.0:\n",
    "    print \"Score must be 0.0 to 1.0.\"\n",
    "    quit()\n",
    "elif s > 1.0:\n",
    "    print \"Score must be 0.0 to 1.0.\"\n",
    "    quit()\n",
    "\n",
    "#Process the input.\n",
    "elif s >= 0.9:\n",
    "    print \"A\"\n",
    "elif s >= 0.8:\n",
    "    print \"B\"\n",
    "elif s >= 0.7:\n",
    "    print \"C\"\n",
    "elif s >= 0.6:\n",
    "    print \"D\"\n",
    "else:\n",
    "    print \"F\""
   ]
  },
  {
   "cell_type": "code",
   "execution_count": 4,
   "metadata": {
    "collapsed": false
   },
   "outputs": [
    {
     "name": "stdout",
     "output_type": "stream",
     "text": [
      "Enter file:\n",
      "cwen@iupui.edu : 5\n"
     ]
    }
   ],
   "source": [
    "#For-loop find of email addresses in a file plus maximum address count.\n",
    "\n",
    "#Generate email address list.\n",
    "file_name = raw_input(\"Enter file:\")\n",
    "if len(file_name ) < 1 : file_name  = \"mbox-short.txt\"\n",
    "fhand = open(file_name)\n",
    "wlist = list()\n",
    "for line in fhand:\n",
    "    line.rstrip()\n",
    "    if line == '' : continue\n",
    "    words = line.split()\n",
    "    if words == []: continue\n",
    "    if words[0] == 'From': \n",
    "        x = words[1]\n",
    "\twlist.append(x)\n",
    "\n",
    "#Count email addresses.\n",
    "wcounts = dict()\n",
    "for addr in wlist:\n",
    "    wcounts[addr] = wcounts.get(addr,0) + 1\n",
    "\n",
    "#Find max word count.\n",
    "maxcount = None\n",
    "maxword = None\n",
    "for word, count in wcounts.items():\n",
    "    if maxcount == None or count > maxcount:\n",
    "        maxword = word\n",
    "        maxcount = count\n",
    "print maxword,\":\",maxcount"
   ]
  },
  {
   "cell_type": "code",
   "execution_count": 1,
   "metadata": {
    "collapsed": false
   },
   "outputs": [
    {
     "name": "stdout",
     "output_type": "stream",
     "text": [
      "Enter a Number: 3\n",
      "input: 3.0 sum: 3.0 iteration: 1\n",
      "Enter a Number: 4\n",
      "input: 4.0 sum: 7.0 iteration: 2\n",
      "Enter a Number: \n",
      "Average = 3.5\n"
     ]
    }
   ],
   "source": [
    "#While-loop running average calculation\n",
    "\n",
    "count = 0\n",
    "total = 0\n",
    "while True:\n",
    "    inp = raw_input('Enter a Number: ')\n",
    "\n",
    "    #Handle the edge cases.\n",
    "    if inp == 'done' : break\n",
    "    if len(inp) < 1 : break\n",
    "\n",
    "    #Process the input.\n",
    "    try: \n",
    "        num = float(inp)\n",
    "    except:\n",
    "        print 'Invalid numeric input.'\n",
    "        continue\n",
    "    num = float(inp)\n",
    "    count = count + 1\n",
    "    total = total + num\n",
    "    print \"input:\", num, \"sum:\", total, \"iteration:\", count\n",
    "print 'Average =', total/count"
   ]
  },
  {
   "cell_type": "markdown",
   "metadata": {},
   "source": [
    "###Function Patterns"
   ]
  },
  {
   "cell_type": "code",
   "execution_count": 8,
   "metadata": {
    "collapsed": false
   },
   "outputs": [
    {
     "name": "stdout",
     "output_type": "stream",
     "text": [
      "Enter a numerator: 1\n",
      "Enter a denominator: 8\n",
      "Fraction: 0.125\n"
     ]
    }
   ],
   "source": [
    "#Basic function patterns.\n",
    "\n",
    "def my_fraction(numerator,denominator):\n",
    "    try:\n",
    "        denominator != 0\n",
    "        top = float(numerator)\n",
    "        bottom = float(denominator)\n",
    "        output = top/bottom\n",
    "        return round(output,4)\n",
    "    except:\n",
    "        print \"The entries must be numbers and the denominator cannot be zero.\"\n",
    "\n",
    "numerator = raw_input('Enter a numerator: ')\n",
    "denominator = raw_input('Enter a denominator: ')\n",
    "fraction = my_fraction(numerator,denominator)\n",
    "print \"Fraction:\",fraction\n"
   ]
  },
  {
   "cell_type": "markdown",
   "metadata": {},
   "source": [
    "###Class Pattern"
   ]
  },
  {
   "cell_type": "code",
   "execution_count": 2,
   "metadata": {
    "collapsed": false
   },
   "outputs": [
    {
     "name": "stdout",
     "output_type": "stream",
     "text": [
      "Methods for string object: \n",
      "['__add__', '__class__', '__contains__', '__delattr__', '__doc__', '__eq__', '__format__', '__ge__', '__getattribute__', '__getitem__', '__getnewargs__', '__getslice__', '__gt__', '__hash__', '__init__', '__le__', '__len__', '__lt__', '__mod__', '__mul__', '__ne__', '__new__', '__reduce__', '__reduce_ex__', '__repr__', '__rmod__', '__rmul__', '__setattr__', '__sizeof__', '__str__', '__subclasshook__', '_formatter_field_name_split', '_formatter_parser', 'capitalize', 'center', 'count', 'decode', 'encode', 'endswith', 'expandtabs', 'find', 'format', 'index', 'isalnum', 'isalpha', 'isdigit', 'islower', 'isspace', 'istitle', 'isupper', 'join', 'ljust', 'lower', 'lstrip', 'partition', 'replace', 'rfind', 'rindex', 'rjust', 'rpartition', 'rsplit', 'rstrip', 'split', 'splitlines', 'startswith', 'strip', 'swapcase', 'title', 'translate', 'upper', 'zfill']\n"
     ]
    }
   ],
   "source": [
    "#View of string object methods.\n",
    "\n",
    "obj = 'this is a string object' \n",
    "print \"Methods for string object:\",\"\\n\", dir(obj)"
   ]
  },
  {
   "cell_type": "code",
   "execution_count": 27,
   "metadata": {
    "collapsed": false
   },
   "outputs": [
    {
     "name": "stdout",
     "output_type": "stream",
     "text": [
      "hours input: 1040 \n",
      "hours basis: 2080 \n",
      "fte: 0.5\n",
      "hours input: 520 \n",
      "hours basis: 2080 \n",
      "fte: 0.25\n"
     ]
    }
   ],
   "source": [
    "#Class for calculating FTE on a basis added on initialization of the class object.\n",
    "\n",
    "class calc_fte_on_basis:\n",
    "    hours = 0\n",
    "    basis = 0\n",
    "    #Object initialization.\n",
    "    def __init__(self,basis_hrs):\n",
    "        self.basis = float(basis_hrs)\n",
    "    #Object FTE method.\n",
    "    def fte(self,hours):\n",
    "        hr_period = self.basis\n",
    "        hr_input = float(hours)\n",
    "        fte_value = round(hr_input/hr_period,4)\n",
    "        print \"hours input:\", int(hr_input), \"\\n\", \"hours basis:\", int(hr_period),\"\\n\",\"fte:\", fte_value\n",
    "        \n",
    "cls = calc_fte_on_basis(2080)\n",
    "cls.fte(1040)\n",
    "\"\\n\"\n",
    "cls.fte(520)"
   ]
  },
  {
   "cell_type": "markdown",
   "metadata": {},
   "source": [
    "###Regular Expressions"
   ]
  },
  {
   "cell_type": "code",
   "execution_count": 42,
   "metadata": {
    "collapsed": false
   },
   "outputs": [
    {
     "name": "stdout",
     "output_type": "stream",
     "text": [
      "Starts with quick?: None\n",
      "Starts with the?: <_sre.SRE_Match object at 0x0000000003B4EAC0>\n",
      "Starts with quick?: []\n",
      "Starts with the?: ['the']\n",
      "\n",
      "\n",
      "Pull out numbers:  ['1', '13']\n",
      "Pull word with a z:  ['lazy']\n",
      "Pull words ending with s:  ['jumps ', 'dogs']\n",
      "Pull word after the word brown:  ['fox']\n",
      "Pull start to s greedy:  ['the 1 quick brown fox jumps over the 13 lazy dogs']\n",
      "Pull start to s greedy:  ['the 1 quick brown fox jumps']\n"
     ]
    }
   ],
   "source": [
    "Regex find examples.\n",
    "\n",
    "import re\n",
    "target = \"the 1 quick brown fox jumps over the 13 lazy dogs\"\n",
    "\n",
    "print \"Starts with quick?:\", re.search('^quick', target)\n",
    "print \"Starts with the?:\", re.search('^the', target)\n",
    "print \"Starts with quick?:\", re.findall('^quick', target)\n",
    "print \"Starts with the?:\", re.findall('^the', target)\n",
    "print \"\\n\"\n",
    "print \"Pull out numbers: \", re.findall('[0-9]+', target)\n",
    "print \"Pull word with a z: \", re.findall('\\S*z\\S*', target)\n",
    "print \"Pull words ending with s: \", re.findall('\\S*s\\s*', target)\n",
    "print \"Pull word after the word brown: \", re.findall('brown (\\S+)', target)\n",
    "print \"Pull start to an s greedy: \", re.findall('^the.*\\S*s', target)\n",
    "print \"Pull start to an s not greedy: \", re.findall('^the.*?\\S*s', target)"
   ]
  },
  {
   "cell_type": "markdown",
   "metadata": {
    "collapsed": true
   },
   "source": [
    "###Misc Notes"
   ]
  },
  {
   "cell_type": "code",
   "execution_count": 44,
   "metadata": {
    "collapsed": false
   },
   "outputs": [],
   "source": [
    "#command line installation: pip install python-oauth2\n",
    "#command line installation: easy_install oauth2\n",
    "#command line upgrade: python -m pip install --upgrade pip\n",
    "#command line file execution: python filename.py\n",
    "#command line escape: exit() or quit()\n",
    "\n",
    "#conversion to version 3\n",
    "#    print x --> print (x)\n",
    "#    raw_input('Enter:') --> input('Enter:')\n",
    "\n",
    "#keywords list\n",
    "#and       del       from      not       while    \n",
    "#as        elif      global    or        with     \n",
    "#assert    else      if        pass      yield    \n",
    "#break     except    import    print              \n",
    "#class     exec      in        raise              \n",
    "#continue  finally   is        return             \n",
    "#def       for       lambda    try"
   ]
  },
  {
   "cell_type": "code",
   "execution_count": null,
   "metadata": {
    "collapsed": true
   },
   "outputs": [],
   "source": []
  }
 ],
 "metadata": {
  "kernelspec": {
   "display_name": "Python 2",
   "language": "python",
   "name": "python2"
  },
  "language_info": {
   "codemirror_mode": {
    "name": "ipython",
    "version": 2
   },
   "file_extension": ".py",
   "mimetype": "text/x-python",
   "name": "python",
   "nbconvert_exporter": "python",
   "pygments_lexer": "ipython2",
   "version": "2.7.10"
  }
 },
 "nbformat": 4,
 "nbformat_minor": 0
}
