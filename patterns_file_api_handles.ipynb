{
 "cells": [
  {
   "cell_type": "markdown",
   "metadata": {},
   "source": [
    "**Author: S. Grunert**     \n",
    "**Revised: January 31, 2016**     \n",
    "**Topic: File and api connections in Python.**     \n",
    "**Versions: Py 2.7**  "
   ]
  },
  {
   "cell_type": "markdown",
   "metadata": {},
   "source": [
    "###Flat File Sources"
   ]
  },
  {
   "cell_type": "code",
   "execution_count": 12,
   "metadata": {
    "collapsed": false
   },
   "outputs": [
    {
     "name": "stdout",
     "output_type": "stream",
     "text": [
      "Output to File: the quick brown fox jumps over the lazy dog\n",
      "\n",
      "Input from File: the quick brown fox jumps over the lazy dog\n",
      "\n"
     ]
    }
   ],
   "source": [
    "#Basic file write and read.\n",
    "sentence = \"the quick brown fox jumps over the lazy dog\\n\"\n",
    "print \"Output to File:\", sentence\n",
    "\n",
    "outfile = open(\"sentence.txt\", \"w\")\n",
    "outfile.write(sentence)\n",
    "outfile.close()\n",
    "\n",
    "infile = open(\"sentence.txt\", 'r')\n",
    "print \"Input from File:\", infile.read()\n",
    "infile.close()"
   ]
  },
  {
   "cell_type": "code",
   "execution_count": 3,
   "metadata": {
    "collapsed": false
   },
   "outputs": [
    {
     "name": "stdout",
     "output_type": "stream",
     "text": [
      "['stephen.marquard@uct.ac.za', 'louis@media.berkeley.edu', 'zqian@umich.edu', 'rjlowe@iupui.edu', 'zqian@umich.edu', 'rjlowe@iupui.edu', 'cwen@iupui.edu', 'cwen@iupui.edu', 'gsilver@umich.edu', 'gsilver@umich.edu', 'zqian@umich.edu', 'gsilver@umich.edu', 'wagnermr@iupui.edu', 'zqian@umich.edu', 'antranig@caret.cam.ac.uk', 'gopal.ramasammycook@gmail.com', 'david.horwitz@uct.ac.za', 'david.horwitz@uct.ac.za', 'david.horwitz@uct.ac.za', 'david.horwitz@uct.ac.za', 'stephen.marquard@uct.ac.za', 'louis@media.berkeley.edu', 'louis@media.berkeley.edu', 'ray@media.berkeley.edu', 'cwen@iupui.edu', 'cwen@iupui.edu', 'cwen@iupui.edu']\n"
     ]
    }
   ],
   "source": [
    "# Pulling email addresses from a text file with regex and conversion into a single list.\n",
    "import re\n",
    "\n",
    "fhand = open('mbox-short.txt')\n",
    "addr_list = list()\n",
    "for line in fhand:\n",
    "    line = line.rstrip()\n",
    "    x = re.findall('^From: (\\S+@\\S+)', line)\n",
    "    if not x : continue\n",
    "    y = x[0]\n",
    "    addr_list.append(y)\n",
    "print addr_list"
   ]
  },
  {
   "cell_type": "markdown",
   "metadata": {},
   "source": [
    "###URL Sources"
   ]
  },
  {
   "cell_type": "code",
   "execution_count": 24,
   "metadata": {
    "collapsed": false
   },
   "outputs": [
    {
     "name": "stdout",
     "output_type": "stream",
     "text": [
      "https://itunes.apple.com/app/apple-store/id736535961?pt=2334150&ct=Coursera%20Web%20Promo%20Banner&mt=8\n",
      "http://play.google.com/store/apps/details?id=org.coursera.android\n",
      "http://tech.coursera.org/app-platform\n",
      "https://plus.google.com/+Coursera\n",
      "http://twitter.com/coursera\n",
      "https://www.facebook.com/Coursera\n",
      "http://blog.coursera.org\n",
      "http://tech.coursera.org\n"
     ]
    }
   ],
   "source": [
    "#Collect child URL anchors from a parent. BeautifulSoup must be in the present working directory.\n",
    "import urllib\n",
    "import ssl\n",
    "import re\n",
    "from BeautifulSoup import *\n",
    "\n",
    "#Pull the html into BeautifulSoup.\n",
    "url = 'https://www.coursera.org/'\n",
    "scontext = ssl.SSLContext(ssl.PROTOCOL_TLSv1)\n",
    "uh = urllib.urlopen(url, context=scontext)\n",
    "html = uh.read()\n",
    "soup = BeautifulSoup(html)\n",
    "\n",
    "#Pull the anchors starting with http.\n",
    "tags = soup('a')\n",
    "counter = 0\n",
    "search_limit = 50\n",
    "for tag in tags:\n",
    "    counter = counter + 1\n",
    "    child_url = tag.get('href', None)\n",
    "    if re.search('^http', child_url): print child_url\n",
    "    if counter == search_limit: break"
   ]
  },
  {
   "cell_type": "markdown",
   "metadata": {
    "collapsed": true
   },
   "source": [
    "###XML Sources"
   ]
  },
  {
   "cell_type": "code",
   "execution_count": 31,
   "metadata": {
    "collapsed": false
   },
   "outputs": [
    {
     "name": "stdout",
     "output_type": "stream",
     "text": [
      "Belgian Waffles\n",
      "Strawberry Belgian Waffles\n",
      "Berry-Berry Belgian Waffles\n",
      "French Toast\n",
      "Homestyle Breakfast\n"
     ]
    }
   ],
   "source": [
    "#Pulling a node from an XML document.\n",
    "import urllib\n",
    "import xml.etree.ElementTree as ET\n",
    "\n",
    "url = 'http://www.w3schools.com/xml/simple.xml'\n",
    "uh = urllib.urlopen(url)\n",
    "data = uh.read()\n",
    "tree = ET.fromstring(data)\n",
    "menu = tree.findall('food') # Use 'food/name' format if accessing a child node.\n",
    "for item in menu:\n",
    "    print item.find('name').text\n"
   ]
  },
  {
   "cell_type": "markdown",
   "metadata": {},
   "source": [
    "###JSON Sources"
   ]
  },
  {
   "cell_type": "code",
   "execution_count": 44,
   "metadata": {
    "collapsed": false
   },
   "outputs": [
    {
     "name": "stdout",
     "output_type": "stream",
     "text": [
      "John Doe\n",
      "Anna Smith\n",
      "Peter Jones\n"
     ]
    }
   ],
   "source": [
    "#Read data from JSON key-value pairs.\n",
    "import json\n",
    "\n",
    "data = '''{\"employees\":[\n",
    "    {\"firstName\":\"John\", \"lastName\":\"Doe\"},\n",
    "    {\"firstName\":\"Anna\", \"lastName\":\"Smith\"},\n",
    "    {\"firstName\":\"Peter\", \"lastName\":\"Jones\"}\n",
    "]}'''\n",
    "info = json.loads(data)\n",
    "for item in info['employees']:\n",
    "    print item[\"firstName\"], item[\"lastName\"]\n"
   ]
  },
  {
   "cell_type": "code",
   "execution_count": 45,
   "metadata": {
    "collapsed": false
   },
   "outputs": [
    {
     "name": "stdout",
     "output_type": "stream",
     "text": [
      "Count 50\n",
      "Sum 2482\n"
     ]
    }
   ],
   "source": [
    "#Manipulate data from a remote JSON file.\n",
    "import urllib\n",
    "import json\n",
    "\n",
    "url = 'http://python-data.dr-chuck.net/comments_42.json'\n",
    "uh = urllib.urlopen(url)\n",
    "data = uh.read()\n",
    "info = json.loads(data)\n",
    "comments = info[\"comments\"]\n",
    "ttl = 0\n",
    "count = 0\n",
    "for item in comments:\n",
    "    num = int(item[\"count\"])\n",
    "    ttl = ttl + num\n",
    "    count = count + 1\n",
    "print 'Count',count\n",
    "print 'Sum',ttl"
   ]
  },
  {
   "cell_type": "markdown",
   "metadata": {
    "collapsed": true
   },
   "source": [
    "###Google Geo API"
   ]
  },
  {
   "cell_type": "code",
   "execution_count": 15,
   "metadata": {
    "collapsed": false
   },
   "outputs": [
    {
     "name": "stdout",
     "output_type": "stream",
     "text": [
      "Enter location: Los Angeles\n",
      "Retrieving: http://maps.googleapis.com/maps/api/geocode/json?sensor=false&address=Los+Angeles\n",
      "Long Name: Los Angeles, CA, USA\n",
      "Longitude: -118.2436849\n",
      "Latitude: 34.0522342\n"
     ]
    }
   ],
   "source": [
    "#Pull back the geo JSON from the google api and parse out longitude and latitude.\n",
    "import urllib\n",
    "import json\n",
    "\n",
    "serviceurl = 'http://maps.googleapis.com/maps/api/geocode/json?'\n",
    "address = raw_input(\"Enter location: \")\n",
    "if len(address) < 1 : address  = \"San Francisco\"\n",
    "url = serviceurl + urllib.urlencode({'sensor':'false', 'address': address})\n",
    "print 'Retrieving:', url\n",
    "uh = urllib.urlopen(url)\n",
    "data = uh.read()\n",
    "js = json.loads(str(data))\n",
    "if 'status' not in js or (js['status'] != 'OK' and js['status'] != 'ZERO_RESULTS') : \n",
    "    print '==== Failure To Retrieve ===='\n",
    "print 'Long Name:', js[\"results\"][0][\"formatted_address\"]\n",
    "print 'Longitude:', js[\"results\"][0][\"geometry\"][\"location\"][\"lng\"]\n",
    "print 'Latitude:', js[\"results\"][0][\"geometry\"][\"location\"][\"lat\"]"
   ]
  },
  {
   "cell_type": "markdown",
   "metadata": {
    "collapsed": true
   },
   "source": [
    "###Twitter API"
   ]
  },
  {
   "cell_type": "code",
   "execution_count": 9,
   "metadata": {
    "collapsed": false,
    "scrolled": false
   },
   "outputs": [
    {
     "name": "stdout",
     "output_type": "stream",
     "text": [
      "\n",
      "Enter Twitter Account:leanpub\n",
      "Remaining 14\n",
      "rdpeng\n",
      "   RT @novalsi: @astVintageSpace @rdpeng TIL there we\n",
      "jurgenappelo\n",
      "   A sweet spot of perspectives... What's the Purpose\n",
      "IvaCheung\n",
      "   @jamesday76 Cool! Good luck with it. Took me a whi\n",
      "taylorotwell\n",
      "   @ianlandsman @fideloper daily newsletter on how yo\n",
      "jeffrey_way\n",
      "   RT @davert: In other news: @codeception is going t\n",
      "\n",
      "Enter Twitter Account:\n"
     ]
    }
   ],
   "source": [
    "#Retrieve the friends for a twitter account.\n",
    "#Requires hidden files in pwd to generate oauth url.\n",
    "\n",
    "import urllib\n",
    "import json\n",
    "import twurl #Hidden file.\n",
    "\n",
    "TWITTER_URL = 'https://api.twitter.com/1.1/friends/list.json'\n",
    "\n",
    "while True:\n",
    "    print ''\n",
    "    acct = raw_input('Enter Twitter Account:')\n",
    "    if ( len(acct) < 1 ) : break\n",
    "    url = twurl.augment(TWITTER_URL,\n",
    "        {'screen_name': acct, 'count': '5'} )\n",
    "    #print 'Retrieving', url\n",
    "    connection = urllib.urlopen(url)\n",
    "    data = connection.read()\n",
    "    headers = connection.info().dict\n",
    "    print 'Remaining', headers['x-rate-limit-remaining']\n",
    "    js = json.loads(data)\n",
    "    #print json.dumps(js, indent=4)\n",
    "\n",
    "    for u in js['users'] :\n",
    "        print u['screen_name']\n",
    "        s = u['status']['text']\n",
    "        print '  ',s[:50]"
   ]
  },
  {
   "cell_type": "markdown",
   "metadata": {
    "collapsed": true
   },
   "source": [
    "###Socket Connections"
   ]
  },
  {
   "cell_type": "code",
   "execution_count": 8,
   "metadata": {
    "collapsed": false
   },
   "outputs": [
    {
     "name": "stdout",
     "output_type": "stream",
     "text": [
      "HTTP/1.0 200 OK\r\n",
      "Cache-Control: public,max-age=3600,public\r\n",
      "Content-Type: text/xml\r\n",
      "Date: Mon, 01 Feb 2016 05:12:30 GMT\r\n",
      "Etag: \"df2594a8329d01:0+ident\"\r\n",
      "Last-Modified: Tue, 06 Jan 2015 07:35:05 GMT\r\n",
      "Server: ECS (sjc/4FBE)\r\n",
      "Vary: Accept-Encoding\r\n",
      "X-Cache: HIT\r\n",
      "X-Powered-By: ASP.NET\r\n",
      "Content-Length: 1102\r\n",
      "Connection: close\r\n",
      "\r\n",
      "<?xml version=\"1.0\" encoding=\"UTF-8\"?>\r\n",
      "<breakfast_menu>\r\n",
      "\t<food>\r\n",
      "\t\t<name>Belgian Waffles</name>\r\n",
      "\t\t<price>$5.95</price>\r\n",
      "\t\t<description>Two of our famous Belgian Waffles with plenty of real maple syrup</description>\r\n",
      "\t\t<calories>650</calories>\r\n",
      "\t</food>\r\n",
      "\t<food>\r\n",
      "\t\t<name>Strawberry Belgian Waffles</name>\r\n",
      "\t\t<price>$7.95</price>\r\n",
      "\t\t<description>Light Belgian waffles covered with strawberries and whipped cream</description>\r\n",
      "\t\t<calories>900</calories>\r\n",
      "\t</food>\r\n",
      "\t<food>\r\n",
      "\t\t<name>Berry-Berry Belgian Waffles</name>\r\n",
      "\t\t<price>$8.95</price>\r\n",
      "\t\t<description>Light Belgian waffles covered with an assortment of fresh berries and whipped cream</description>\r\n",
      "\t\t<calories>900</calories>\r\n",
      "\t</food>\r\n",
      "\t<\n",
      "food>\r\n",
      "\t\t<name>French Toast</name>\r\n",
      "\t\t<price>$4.50</price>\r\n",
      "\t\t<description>Thick slices made from our homemade sourdough bread</description>\r\n",
      "\t\t<calories>600</calories>\r\n",
      "\t</food>\r\n",
      "\t<food>\r\n",
      "\t\t<name>Homestyle Breakfast</name>\r\n",
      "\t\t<price>$6.95</price>\r\n",
      "\t\t<description>Two eggs, bacon or sausage, toast, and our ever-popular hash browns</description>\r\n",
      "\t\t<calories>950</calories>\r\n",
      "\t</food>\r\n",
      "</breakfast_menu>\r\n",
      "\n"
     ]
    }
   ],
   "source": [
    "#Make a socket connection to the XML document used above.\n",
    "\n",
    "import socket\n",
    "\n",
    "mysock = socket.socket(socket.AF_INET, socket.SOCK_STREAM)\n",
    "mysock.connect(('www.w3schools.com', 80))\n",
    "mysock.send('GET http://www.w3schools.com/xml/simple.xml HTTP/1.0\\n\\n')\n",
    "\n",
    "while True:\n",
    "    data = mysock.recv(1024)\n",
    "    if ( len(data) < 1 ) :\n",
    "        break\n",
    "    print data;\n",
    "\n",
    "mysock.close()"
   ]
  },
  {
   "cell_type": "code",
   "execution_count": null,
   "metadata": {
    "collapsed": true
   },
   "outputs": [],
   "source": []
  }
 ],
 "metadata": {
  "kernelspec": {
   "display_name": "Python 2",
   "language": "python",
   "name": "python2"
  },
  "language_info": {
   "codemirror_mode": {
    "name": "ipython",
    "version": 2
   },
   "file_extension": ".py",
   "mimetype": "text/x-python",
   "name": "python",
   "nbconvert_exporter": "python",
   "pygments_lexer": "ipython2",
   "version": "2.7.10"
  }
 },
 "nbformat": 4,
 "nbformat_minor": 0
}
